{
 "cells": [
  {
   "cell_type": "code",
   "execution_count": 1,
   "metadata": {},
   "outputs": [],
   "source": [
    "import numpy as np\n",
    "import pandas as pd\n",
    "import scipy\n",
    "import sklearn\n",
    "import matplotlib.pyplot as plt\n",
    "import seaborn as sns\n",
    "%matplotlib inline\n",
    "from sklearn import datasets"
   ]
  },
  {
   "cell_type": "code",
   "execution_count": 2,
   "metadata": {},
   "outputs": [],
   "source": [
    "df = pd.read_csv(r'/Users/manueltanguma/Downloads/imdb_labelled.txt', sep='\\t', header=None)"
   ]
  },
  {
   "cell_type": "code",
   "execution_count": 3,
   "metadata": {},
   "outputs": [
    {
     "data": {
      "text/html": [
       "<div>\n",
       "<style scoped>\n",
       "    .dataframe tbody tr th:only-of-type {\n",
       "        vertical-align: middle;\n",
       "    }\n",
       "\n",
       "    .dataframe tbody tr th {\n",
       "        vertical-align: top;\n",
       "    }\n",
       "\n",
       "    .dataframe thead th {\n",
       "        text-align: right;\n",
       "    }\n",
       "</style>\n",
       "<table border=\"1\" class=\"dataframe\">\n",
       "  <thead>\n",
       "    <tr style=\"text-align: right;\">\n",
       "      <th></th>\n",
       "      <th>0</th>\n",
       "      <th>1</th>\n",
       "    </tr>\n",
       "  </thead>\n",
       "  <tbody>\n",
       "    <tr>\n",
       "      <th>0</th>\n",
       "      <td>A very, very, very slow-moving, aimless movie ...</td>\n",
       "      <td>0</td>\n",
       "    </tr>\n",
       "    <tr>\n",
       "      <th>1</th>\n",
       "      <td>Not sure who was more lost - the flat characte...</td>\n",
       "      <td>0</td>\n",
       "    </tr>\n",
       "    <tr>\n",
       "      <th>2</th>\n",
       "      <td>Attempting artiness with black &amp; white and cle...</td>\n",
       "      <td>0</td>\n",
       "    </tr>\n",
       "    <tr>\n",
       "      <th>3</th>\n",
       "      <td>Very little music or anything to speak of.</td>\n",
       "      <td>0</td>\n",
       "    </tr>\n",
       "    <tr>\n",
       "      <th>4</th>\n",
       "      <td>The best scene in the movie was when Gerardo i...</td>\n",
       "      <td>1</td>\n",
       "    </tr>\n",
       "  </tbody>\n",
       "</table>\n",
       "</div>"
      ],
      "text/plain": [
       "                                                   0  1\n",
       "0  A very, very, very slow-moving, aimless movie ...  0\n",
       "1  Not sure who was more lost - the flat characte...  0\n",
       "2  Attempting artiness with black & white and cle...  0\n",
       "3       Very little music or anything to speak of.    0\n",
       "4  The best scene in the movie was when Gerardo i...  1"
      ]
     },
     "execution_count": 3,
     "metadata": {},
     "output_type": "execute_result"
    }
   ],
   "source": [
    "df.head(5)"
   ]
  },
  {
   "cell_type": "code",
   "execution_count": 4,
   "metadata": {},
   "outputs": [],
   "source": [
    "df.columns = ['review', 'hit']"
   ]
  },
  {
   "cell_type": "code",
   "execution_count": 5,
   "metadata": {},
   "outputs": [
    {
     "data": {
      "text/html": [
       "<div>\n",
       "<style scoped>\n",
       "    .dataframe tbody tr th:only-of-type {\n",
       "        vertical-align: middle;\n",
       "    }\n",
       "\n",
       "    .dataframe tbody tr th {\n",
       "        vertical-align: top;\n",
       "    }\n",
       "\n",
       "    .dataframe thead th {\n",
       "        text-align: right;\n",
       "    }\n",
       "</style>\n",
       "<table border=\"1\" class=\"dataframe\">\n",
       "  <thead>\n",
       "    <tr style=\"text-align: right;\">\n",
       "      <th></th>\n",
       "      <th>hit</th>\n",
       "      <th>review</th>\n",
       "    </tr>\n",
       "  </thead>\n",
       "  <tbody>\n",
       "    <tr>\n",
       "      <th>0</th>\n",
       "      <td>0</td>\n",
       "      <td>A very, very, very slow-moving, aimless movie ...</td>\n",
       "    </tr>\n",
       "    <tr>\n",
       "      <th>1</th>\n",
       "      <td>0</td>\n",
       "      <td>Not sure who was more lost - the flat characte...</td>\n",
       "    </tr>\n",
       "    <tr>\n",
       "      <th>2</th>\n",
       "      <td>0</td>\n",
       "      <td>Attempting artiness with black &amp; white and cle...</td>\n",
       "    </tr>\n",
       "    <tr>\n",
       "      <th>3</th>\n",
       "      <td>0</td>\n",
       "      <td>Very little music or anything to speak of.</td>\n",
       "    </tr>\n",
       "    <tr>\n",
       "      <th>4</th>\n",
       "      <td>1</td>\n",
       "      <td>The best scene in the movie was when Gerardo i...</td>\n",
       "    </tr>\n",
       "  </tbody>\n",
       "</table>\n",
       "</div>"
      ],
      "text/plain": [
       "   hit                                             review\n",
       "0    0  A very, very, very slow-moving, aimless movie ...\n",
       "1    0  Not sure who was more lost - the flat characte...\n",
       "2    0  Attempting artiness with black & white and cle...\n",
       "3    0       Very little music or anything to speak of.  \n",
       "4    1  The best scene in the movie was when Gerardo i..."
      ]
     },
     "execution_count": 5,
     "metadata": {},
     "output_type": "execute_result"
    }
   ],
   "source": [
    "columns_titles = ['hit', 'review']\n",
    "df = df.reindex(columns=columns_titles)\n",
    "df.head(5)"
   ]
  },
  {
   "cell_type": "code",
   "execution_count": 6,
   "metadata": {},
   "outputs": [
    {
     "data": {
      "text/html": [
       "<div>\n",
       "<style scoped>\n",
       "    .dataframe tbody tr th:only-of-type {\n",
       "        vertical-align: middle;\n",
       "    }\n",
       "\n",
       "    .dataframe tbody tr th {\n",
       "        vertical-align: top;\n",
       "    }\n",
       "\n",
       "    .dataframe thead th {\n",
       "        text-align: right;\n",
       "    }\n",
       "</style>\n",
       "<table border=\"1\" class=\"dataframe\">\n",
       "  <thead>\n",
       "    <tr style=\"text-align: right;\">\n",
       "      <th></th>\n",
       "      <th>hit</th>\n",
       "    </tr>\n",
       "  </thead>\n",
       "  <tbody>\n",
       "    <tr>\n",
       "      <th>count</th>\n",
       "      <td>748.000000</td>\n",
       "    </tr>\n",
       "    <tr>\n",
       "      <th>mean</th>\n",
       "      <td>0.516043</td>\n",
       "    </tr>\n",
       "    <tr>\n",
       "      <th>std</th>\n",
       "      <td>0.500077</td>\n",
       "    </tr>\n",
       "    <tr>\n",
       "      <th>min</th>\n",
       "      <td>0.000000</td>\n",
       "    </tr>\n",
       "    <tr>\n",
       "      <th>25%</th>\n",
       "      <td>0.000000</td>\n",
       "    </tr>\n",
       "    <tr>\n",
       "      <th>50%</th>\n",
       "      <td>1.000000</td>\n",
       "    </tr>\n",
       "    <tr>\n",
       "      <th>75%</th>\n",
       "      <td>1.000000</td>\n",
       "    </tr>\n",
       "    <tr>\n",
       "      <th>max</th>\n",
       "      <td>1.000000</td>\n",
       "    </tr>\n",
       "  </tbody>\n",
       "</table>\n",
       "</div>"
      ],
      "text/plain": [
       "              hit\n",
       "count  748.000000\n",
       "mean     0.516043\n",
       "std      0.500077\n",
       "min      0.000000\n",
       "25%      0.000000\n",
       "50%      1.000000\n",
       "75%      1.000000\n",
       "max      1.000000"
      ]
     },
     "execution_count": 6,
     "metadata": {},
     "output_type": "execute_result"
    }
   ],
   "source": [
    "df.describe()"
   ]
  },
  {
   "cell_type": "code",
   "execution_count": 7,
   "metadata": {},
   "outputs": [
    {
     "data": {
      "text/html": [
       "<div>\n",
       "<style scoped>\n",
       "    .dataframe tbody tr th:only-of-type {\n",
       "        vertical-align: middle;\n",
       "    }\n",
       "\n",
       "    .dataframe tbody tr th {\n",
       "        vertical-align: top;\n",
       "    }\n",
       "\n",
       "    .dataframe thead th {\n",
       "        text-align: right;\n",
       "    }\n",
       "</style>\n",
       "<table border=\"1\" class=\"dataframe\">\n",
       "  <thead>\n",
       "    <tr style=\"text-align: right;\">\n",
       "      <th></th>\n",
       "      <th>hit</th>\n",
       "      <th>review</th>\n",
       "      <th>length</th>\n",
       "    </tr>\n",
       "  </thead>\n",
       "  <tbody>\n",
       "    <tr>\n",
       "      <th>0</th>\n",
       "      <td>0</td>\n",
       "      <td>A very, very, very slow-moving, aimless movie ...</td>\n",
       "      <td>87</td>\n",
       "    </tr>\n",
       "    <tr>\n",
       "      <th>1</th>\n",
       "      <td>0</td>\n",
       "      <td>Not sure who was more lost - the flat characte...</td>\n",
       "      <td>99</td>\n",
       "    </tr>\n",
       "    <tr>\n",
       "      <th>2</th>\n",
       "      <td>0</td>\n",
       "      <td>Attempting artiness with black &amp; white and cle...</td>\n",
       "      <td>188</td>\n",
       "    </tr>\n",
       "    <tr>\n",
       "      <th>3</th>\n",
       "      <td>0</td>\n",
       "      <td>Very little music or anything to speak of.</td>\n",
       "      <td>44</td>\n",
       "    </tr>\n",
       "    <tr>\n",
       "      <th>4</th>\n",
       "      <td>1</td>\n",
       "      <td>The best scene in the movie was when Gerardo i...</td>\n",
       "      <td>108</td>\n",
       "    </tr>\n",
       "  </tbody>\n",
       "</table>\n",
       "</div>"
      ],
      "text/plain": [
       "   hit                                             review  length\n",
       "0    0  A very, very, very slow-moving, aimless movie ...      87\n",
       "1    0  Not sure who was more lost - the flat characte...      99\n",
       "2    0  Attempting artiness with black & white and cle...     188\n",
       "3    0       Very little music or anything to speak of.        44\n",
       "4    1  The best scene in the movie was when Gerardo i...     108"
      ]
     },
     "execution_count": 7,
     "metadata": {},
     "output_type": "execute_result"
    }
   ],
   "source": [
    "df['length']=df['review'].apply(len)\n",
    "df.head(5)"
   ]
  },
  {
   "cell_type": "code",
   "execution_count": 8,
   "metadata": {},
   "outputs": [
    {
     "data": {
      "text/plain": [
       "<matplotlib.axes._subplots.AxesSubplot at 0x1a1095b278>"
      ]
     },
     "execution_count": 8,
     "metadata": {},
     "output_type": "execute_result"
    },
    {
     "data": {
      "image/png": "[encoded data removed]",
      "text/plain": [
       "<Figure size 432x288 with 1 Axes>"
      ]
     },
     "metadata": {},
     "output_type": "display_data"
    }
   ],
   "source": [
    "df['length'].plot(bins=50,kind='hist')"
   ]
  },
  {
   "cell_type": "code",
   "execution_count": 9,
   "metadata": {},
   "outputs": [
    {
     "data": {
      "text/html": [
       "<div>\n",
       "<style scoped>\n",
       "    .dataframe tbody tr th:only-of-type {\n",
       "        vertical-align: middle;\n",
       "    }\n",
       "\n",
       "    .dataframe tbody tr th {\n",
       "        vertical-align: top;\n",
       "    }\n",
       "\n",
       "    .dataframe thead th {\n",
       "        text-align: right;\n",
       "    }\n",
       "</style>\n",
       "<table border=\"1\" class=\"dataframe\">\n",
       "  <thead>\n",
       "    <tr style=\"text-align: right;\">\n",
       "      <th></th>\n",
       "      <th>hit</th>\n",
       "      <th>length</th>\n",
       "    </tr>\n",
       "  </thead>\n",
       "  <tbody>\n",
       "    <tr>\n",
       "      <th>count</th>\n",
       "      <td>748.000000</td>\n",
       "      <td>748.000000</td>\n",
       "    </tr>\n",
       "    <tr>\n",
       "      <th>mean</th>\n",
       "      <td>0.516043</td>\n",
       "      <td>110.986631</td>\n",
       "    </tr>\n",
       "    <tr>\n",
       "      <th>std</th>\n",
       "      <td>0.500077</td>\n",
       "      <td>380.627728</td>\n",
       "    </tr>\n",
       "    <tr>\n",
       "      <th>min</th>\n",
       "      <td>0.000000</td>\n",
       "      <td>7.000000</td>\n",
       "    </tr>\n",
       "    <tr>\n",
       "      <th>25%</th>\n",
       "      <td>0.000000</td>\n",
       "      <td>42.750000</td>\n",
       "    </tr>\n",
       "    <tr>\n",
       "      <th>50%</th>\n",
       "      <td>1.000000</td>\n",
       "      <td>72.000000</td>\n",
       "    </tr>\n",
       "    <tr>\n",
       "      <th>75%</th>\n",
       "      <td>1.000000</td>\n",
       "      <td>112.250000</td>\n",
       "    </tr>\n",
       "    <tr>\n",
       "      <th>max</th>\n",
       "      <td>1.000000</td>\n",
       "      <td>7944.000000</td>\n",
       "    </tr>\n",
       "  </tbody>\n",
       "</table>\n",
       "</div>"
      ],
      "text/plain": [
       "              hit       length\n",
       "count  748.000000   748.000000\n",
       "mean     0.516043   110.986631\n",
       "std      0.500077   380.627728\n",
       "min      0.000000     7.000000\n",
       "25%      0.000000    42.750000\n",
       "50%      1.000000    72.000000\n",
       "75%      1.000000   112.250000\n",
       "max      1.000000  7944.000000"
      ]
     },
     "execution_count": 9,
     "metadata": {},
     "output_type": "execute_result"
    }
   ],
   "source": [
    "df.describe()"
   ]
  },
  {
   "cell_type": "code",
   "execution_count": 10,
   "metadata": {},
   "outputs": [
    {
     "data": {
      "text/plain": [
       "count     748.000000\n",
       "mean      110.986631\n",
       "std       380.627728\n",
       "min         7.000000\n",
       "25%        42.750000\n",
       "50%        72.000000\n",
       "75%       112.250000\n",
       "max      7944.000000\n",
       "Name: length, dtype: float64"
      ]
     },
     "execution_count": 10,
     "metadata": {},
     "output_type": "execute_result"
    }
   ],
   "source": [
    "df.length.describe()"
   ]
  },
  {
   "cell_type": "code",
   "execution_count": 11,
   "metadata": {},
   "outputs": [
    {
     "data": {
      "text/plain": [
       "' In fact, it\\'s hard to remember that the part of Ray Charles is being acted, and not played by the man himself.  \\t1\\nRay Charles is legendary.  \\t1\\nRay Charles\\' life provided excellent biographical material for the film, which goes well beyond being just another movie about a musician.  \\t1\\nHitchcock is a great director.  \\t1\\nIronically I mostly find his films a total waste of time to watch.  \\t0\\nSecondly, Hitchcock pretty much perfected the thriller and chase movie.  \\t1\\nIt\\'s this pandering to the audience that sabotages most of his films.  \\t0\\nHence the whole story lacks a certain energy.  \\t0\\nThe plot simply rumbles on like a machine, desperately depending on the addition of new scenes.  \\t0\\nThere are the usual Hitchcock logic flaws.  \\t0\\nMishima is extremely uninteresting.  \\t0\\nThis is a chilly, unremarkable movie about an author living/working in a chilly abstruse culture.  \\t0\\nThe flat reenactments don\\'t hold your attention because they are emotionally adrift and stagy.  \\t0\\nAnd the rest of it just sits there being awful... with soldiers singing songs about the masculinity they pledge themselves to, hairsplitting about purity, the admiration of swords, etc.  \\t0\\nHe can bore you to pieces, and kill the momentum of a movie, quicker than anyone else.  \\t0\\nSchrader has made a resume full of lousy, amateurish films.  \\t0\\nWhen I first watched this movie, in the 80s, I loved it.  \\t1\\nI was totally fascinated by the music, the dancing... everything.  \\t1\\nHowever, I recently watched the whole thing again on DVD, and I was completely struck by how extremely stupid the storyline was - how it contained holes, inconsistencies and - frankly - a whole lot of crap - and how horrid the dancing was.  \\t0\\nI mean, in a realistic world, she would NEVER have gotten into that ballet repertory... The whole thing was quite pathetic.  \\t0\\nThe character developments also lacked in depth.  \\t0\\nWoa, talk about awful.  \\t0\\nDo not waste your time.  \\t0\\nIt was just too horrible.  \\t0\\nThe worst, sappiest dialogue... I could go on and on.  \\t0\\nBut what really made it unwatchable was the direction.  \\t0\\nThe poor actors.  \\t0\\nYou can\\'t even tell if they have any talent because they not only have pathetic lines to speak but the director gave them no action.  \\t0\\nIf you check the director\\'s filmography on this site you will see why this film didn\\'t have a chance.  \\t0\\nThis would not even be good as a made for TV flick.  \\t0\\nIf good intentions made a film great, then this film might be one of the greatest films ever made.  \\t1\\nThe film has great actors, a master director, a significant theme--at least a would-be significant theme, undertone of fifties existential world-weariness, aerial scenes that ought to have thrilled both senses and imagination, and characters about which one might deeply care.  \\t1\\nRegrettably, the film fails.  \\t0\\nThe movie lacks visual interest, drama, expression of feeling, and celebration of the very patriotism that underlines the narrative.  \\t0\\nNo actress has been worse used that June Allison in this movie.  \\t0\\nYet, I enjoy watching it.  \\t1\\nUnfortunately, this is a bad movie that is just plain bad.  \\t0\\nBad script, bad direction and horrible acting make this one plain bad!  \\t0\\nThe dialogue sucked.  \\t0\\nThe cinematography-if it can be called that-sucked.  \\t0\\nThe soundtrack sucked.  \\t0\\nThe acting sucked.  \\t0\\nThe concert sequences just sucked.  \\t0\\nThat was nice.  \\t1\\nThat was funny.  \\t1\\nIt was so funny.  \\t1\\nOverall, this movie was cheap trash.  \\t0\\nBut this movie is not funny, considering the ridiculousness of it.  \\t0\\nI came out of it feeling angry.  \\t0\\n***SPOILERS*** Whatever else can (or can\\'t) be said about it, SURFACE is superbly crafted.  \\t1\\nThe cinematography is simply stunning (to say the least) and the fx are nothing if not state-of-the-art.  \\t1\\nConceptually, the show offers a little bit of everything- and for just about everybody (parents, kids, fantasy and/or fx fans).  \\t1\\nAnd there wasn\\'t a single sour note struck acting-wise, either; some surprisingly solid casting, here.  \\t1\\nAll things considered, a job very well done.  \\t1\\nThanks good a movie like this was done and released.  \\t1\\nOne of the best mexican movies ever!, and one of the less understood, even by mexican themselves, no matter how identified the should have felt with it.  \\t1\\nIt ranks highly as a great noir-crime-drama, incredible performances by Belmondo and Lino Ventura.  \\t1\\nThe attention given to every character, and complex psychological portrayals, detailing loyalty, treachery, love, and hope, are tremendous.  \\t1\\nIt is an excellent drama, an excellent thriller, and an excellent film.  \\t1\\nUp there with the best of Melville.  \\t1\\nEverything about this film is simply incredible.  \\t1\\nYou truly take this journey through the eyes and soul of a child.  \\t1\\nBLACK WATER is a thriller that manages to completely transcend it\\'s limitations (it\\'s an indie flick) by continually subverting expectations to emerge as an intense experience.  \\t1\\nThe performances are real and gripping, the crocdodile is extremely well done, indeed if the Black Water website is to be believed that\\'s because they used real crocs and the swamp location is fabulous.  \\t1\\nI thoroughly enjoyed it when Christopher Eccleston took control of the TARDIS and the continuation of the series.  \\t1\\nI\\'m not sure what he was trying to do with this film.  \\t0\\nIf it was to turn my good day feeling into a night of disturbing memories than I guess he succeeded.  \\t0\\nThere is a lot of beautiful places.  \\t1\\nIt was forced, like everything in this movie.  \\t0\\nAgain, lame.  \\t0\\nHere\\'s where the movie really pi**ed me off.  \\t0\\nAnd don\\'t even get me started on the jerky camerawork.  \\t0\\nWhen I saw it in the theater I thought I was going to be sick.  \\t0\\nSummary: The witticisms weren\\'t witty.  \\t0\\nThe plot - well, I said I\\'d let that one go.  \\t0\\nThe acting was bad.  \\t0\\nReally bad.  \\t0\\nEven Billy Bob couldn\\'t rise above the script, which was worse.  \\t0\\nCamerawork - again, bad.  \\t0\\nRating: 1 out of 10.  \\t0\\nAn AMAZING finale to possibly the BEST trilogy of all time!  \\t1\\nKieslowski never ceases to amaze me.  \\t1\\nHe is one of my favourite directors, and one of the most talented directors in the history of cinema.  \\t1\\nHis use of the colours of the French flag in the three films was nothing short of incredible, every shot, every scene was like a work of art.  \\t1\\nThree of the most visually appealing movies i\\'ve ever seen.  \\t1\\nAnd his subtle connections between the three films are awesome.  \\t1\\nI have to mention this and it is a huge SPOILER, i loved the ending, how all the characters of the three films were the remaining survivors of the ferry disaster, with Valentine and the young judge together, and the old man watching it on her TV, solidifying his happiness over the suffering which he dealt with for those many years.  \\t1\\nI couldn\\'t think of a better way to end the film, but a smile on my face, great way to wrap up an amazing film and trilogy!  \\t1\\nI recommend this for EVERYONE who loves film, movies, anything...A Work of Art!  \\t1\\n10 out of 10 for both the movie and trilogy.  \\t1\\nI literally vomited while watching this film.  \\t0\\nI think i was one of the people who found this another one of roth\\'s pearls.  \\t1\\nhis performance, as awarded, was stunning.  \\t1\\nthe story which was told so eloquently by Francis ford Coppola 25 years earlier, really unfolds gradually and leaves room for the characters to develop.  \\t1\\nIn a most wonderful location lies a story of contrast.  \\t1\\nAll in all a beautiful directed film from Nicola\\'s roeg wih a sublime cast.  \\t1\\nI\\'m translating movies for a living and this is the first movie in my 5-year working experience that I found offensive to my intelligence.  \\t0\\nBut when someone strives for greatness and poetry, but delivers a muddled (and often ridiculous) story, a bunch of disparate scenes, pretentious dialogue... Then you get the worst kind of a movie that some other reviewer very accurately defined as pretentious crap\".  '"
      ]
     },
     "execution_count": 11,
     "metadata": {},
     "output_type": "execute_result"
    }
   ],
   "source": [
    "df[df['length']==7944]['review'].iloc[0]"
   ]
  },
  {
   "cell_type": "code",
   "execution_count": 12,
   "metadata": {},
   "outputs": [
    {
     "data": {
      "text/plain": [
       "'10/10  '"
      ]
     },
     "execution_count": 12,
     "metadata": {},
     "output_type": "execute_result"
    }
   ],
   "source": [
    "df[df['length']==7]['review'].iloc[0]"
   ]
  },
  {
   "cell_type": "code",
   "execution_count": 13,
   "metadata": {},
   "outputs": [
    {
     "name": "stdout",
     "output_type": "stream",
     "text": [
      "This is a sample messy text\n"
     ]
    }
   ],
   "source": [
    "import string\n",
    "messy = 'This is a sample messy text!!!!...'\n",
    "nostruct=[char for char in messy if char not in string.punctuation]\n",
    "nostruct=''.join(nostruct)\n",
    "print(nostruct)\n"
   ]
  },
  {
   "cell_type": "code",
   "execution_count": 14,
   "metadata": {},
   "outputs": [],
   "source": [
    "import nltk"
   ]
  },
  {
   "cell_type": "code",
   "execution_count": 15,
   "metadata": {},
   "outputs": [
    {
     "data": {
      "text/plain": [
       "['i',\n",
       " 'me',\n",
       " 'my',\n",
       " 'myself',\n",
       " 'we',\n",
       " 'our',\n",
       " 'ours',\n",
       " 'ourselves',\n",
       " 'you',\n",
       " \"you're\",\n",
       " \"you've\",\n",
       " \"you'll\",\n",
       " \"you'd\",\n",
       " 'your',\n",
       " 'yours',\n",
       " 'yourself',\n",
       " 'yourselves',\n",
       " 'he',\n",
       " 'him',\n",
       " 'his',\n",
       " 'himself',\n",
       " 'she',\n",
       " \"she's\",\n",
       " 'her',\n",
       " 'hers']"
      ]
     },
     "execution_count": 15,
     "metadata": {},
     "output_type": "execute_result"
    }
   ],
   "source": [
    "from nltk.corpus import stopwords\n",
    "stopwords.words('english')[0:25]"
   ]
  },
  {
   "cell_type": "code",
   "execution_count": 16,
   "metadata": {},
   "outputs": [
    {
     "name": "stdout",
     "output_type": "stream",
     "text": [
      "This is a sample messy text\n"
     ]
    }
   ],
   "source": [
    "nostruct.split()\n",
    "print (nostruct)"
   ]
  },
  {
   "cell_type": "code",
   "execution_count": 17,
   "metadata": {},
   "outputs": [],
   "source": [
    "strain_messy=[word for word in nostruct.split() if word.lower() not in stopwords.words('english')]"
   ]
  },
  {
   "cell_type": "code",
   "execution_count": 18,
   "metadata": {},
   "outputs": [
    {
     "name": "stdout",
     "output_type": "stream",
     "text": [
      "['sample', 'messy', 'text']\n"
     ]
    }
   ],
   "source": [
    "print (strain_messy)"
   ]
  },
  {
   "cell_type": "code",
   "execution_count": 19,
   "metadata": {},
   "outputs": [],
   "source": [
    "#making a function to process data later\n",
    "def text_analyzer(messy):\n",
    "    nostruct=[char for char in messy if char not in string.punctuation]\n",
    "    nostruct=''.join(nostruct)\n",
    "    return [word for word in nostruct.split() if word.lower() not in stopwords.words('english')]\n"
   ]
  },
  {
   "cell_type": "code",
   "execution_count": 20,
   "metadata": {},
   "outputs": [],
   "source": [
    "# Relook this area may have thrown rest of code off\n",
    "df['review'] = df['review'].apply(text_analyzer)"
   ]
  },
  {
   "cell_type": "code",
   "execution_count": 21,
   "metadata": {},
   "outputs": [
    {
     "data": {
      "text/html": [
       "<div>\n",
       "<style scoped>\n",
       "    .dataframe tbody tr th:only-of-type {\n",
       "        vertical-align: middle;\n",
       "    }\n",
       "\n",
       "    .dataframe tbody tr th {\n",
       "        vertical-align: top;\n",
       "    }\n",
       "\n",
       "    .dataframe thead th {\n",
       "        text-align: right;\n",
       "    }\n",
       "</style>\n",
       "<table border=\"1\" class=\"dataframe\">\n",
       "  <thead>\n",
       "    <tr style=\"text-align: right;\">\n",
       "      <th></th>\n",
       "      <th>hit</th>\n",
       "      <th>review</th>\n",
       "      <th>length</th>\n",
       "    </tr>\n",
       "  </thead>\n",
       "  <tbody>\n",
       "    <tr>\n",
       "      <th>0</th>\n",
       "      <td>0</td>\n",
       "      <td>[slowmoving, aimless, movie, distressed, drift...</td>\n",
       "      <td>87</td>\n",
       "    </tr>\n",
       "    <tr>\n",
       "      <th>1</th>\n",
       "      <td>0</td>\n",
       "      <td>[sure, lost, flat, characters, audience, nearl...</td>\n",
       "      <td>99</td>\n",
       "    </tr>\n",
       "    <tr>\n",
       "      <th>2</th>\n",
       "      <td>0</td>\n",
       "      <td>[Attempting, artiness, black, white, clever, c...</td>\n",
       "      <td>188</td>\n",
       "    </tr>\n",
       "    <tr>\n",
       "      <th>3</th>\n",
       "      <td>0</td>\n",
       "      <td>[little, music, anything, speak]</td>\n",
       "      <td>44</td>\n",
       "    </tr>\n",
       "    <tr>\n",
       "      <th>4</th>\n",
       "      <td>1</td>\n",
       "      <td>[best, scene, movie, Gerardo, trying, find, so...</td>\n",
       "      <td>108</td>\n",
       "    </tr>\n",
       "  </tbody>\n",
       "</table>\n",
       "</div>"
      ],
      "text/plain": [
       "   hit                                             review  length\n",
       "0    0  [slowmoving, aimless, movie, distressed, drift...      87\n",
       "1    0  [sure, lost, flat, characters, audience, nearl...      99\n",
       "2    0  [Attempting, artiness, black, white, clever, c...     188\n",
       "3    0                   [little, music, anything, speak]      44\n",
       "4    1  [best, scene, movie, Gerardo, trying, find, so...     108"
      ]
     },
     "execution_count": 21,
     "metadata": {},
     "output_type": "execute_result"
    }
   ],
   "source": [
    "df.head(5)"
   ]
  },
  {
   "cell_type": "code",
   "execution_count": 22,
   "metadata": {},
   "outputs": [],
   "source": [
    "ml_df = df"
   ]
  },
  {
   "cell_type": "code",
   "execution_count": 23,
   "metadata": {},
   "outputs": [
    {
     "data": {
      "text/html": [
       "<div>\n",
       "<style scoped>\n",
       "    .dataframe tbody tr th:only-of-type {\n",
       "        vertical-align: middle;\n",
       "    }\n",
       "\n",
       "    .dataframe tbody tr th {\n",
       "        vertical-align: top;\n",
       "    }\n",
       "\n",
       "    .dataframe thead th {\n",
       "        text-align: right;\n",
       "    }\n",
       "</style>\n",
       "<table border=\"1\" class=\"dataframe\">\n",
       "  <thead>\n",
       "    <tr style=\"text-align: right;\">\n",
       "      <th></th>\n",
       "      <th>hit</th>\n",
       "      <th>review</th>\n",
       "      <th>length</th>\n",
       "    </tr>\n",
       "  </thead>\n",
       "  <tbody>\n",
       "    <tr>\n",
       "      <th>0</th>\n",
       "      <td>0</td>\n",
       "      <td>[slowmoving, aimless, movie, distressed, drift...</td>\n",
       "      <td>87</td>\n",
       "    </tr>\n",
       "    <tr>\n",
       "      <th>1</th>\n",
       "      <td>0</td>\n",
       "      <td>[sure, lost, flat, characters, audience, nearl...</td>\n",
       "      <td>99</td>\n",
       "    </tr>\n",
       "    <tr>\n",
       "      <th>2</th>\n",
       "      <td>0</td>\n",
       "      <td>[Attempting, artiness, black, white, clever, c...</td>\n",
       "      <td>188</td>\n",
       "    </tr>\n",
       "    <tr>\n",
       "      <th>3</th>\n",
       "      <td>0</td>\n",
       "      <td>[little, music, anything, speak]</td>\n",
       "      <td>44</td>\n",
       "    </tr>\n",
       "    <tr>\n",
       "      <th>4</th>\n",
       "      <td>1</td>\n",
       "      <td>[best, scene, movie, Gerardo, trying, find, so...</td>\n",
       "      <td>108</td>\n",
       "    </tr>\n",
       "  </tbody>\n",
       "</table>\n",
       "</div>"
      ],
      "text/plain": [
       "   hit                                             review  length\n",
       "0    0  [slowmoving, aimless, movie, distressed, drift...      87\n",
       "1    0  [sure, lost, flat, characters, audience, nearl...      99\n",
       "2    0  [Attempting, artiness, black, white, clever, c...     188\n",
       "3    0                   [little, music, anything, speak]      44\n",
       "4    1  [best, scene, movie, Gerardo, trying, find, so...     108"
      ]
     },
     "execution_count": 23,
     "metadata": {},
     "output_type": "execute_result"
    }
   ],
   "source": [
    "ml_df.head(5)"
   ]
  },
  {
   "cell_type": "code",
   "execution_count": 24,
   "metadata": {},
   "outputs": [],
   "source": [
    "from sklearn.feature_extraction.text import CountVectorizer"
   ]
  },
  {
   "cell_type": "code",
   "execution_count": 25,
   "metadata": {},
   "outputs": [
    {
     "name": "stdout",
     "output_type": "stream",
     "text": [
      "744\n"
     ]
    }
   ],
   "source": [
    "#bag of words\n",
    "bow_transformer = CountVectorizer(analyzer=text_analyzer).fit(ml_df['review'])\n",
    "print(len(bow_transformer.vocabulary_))"
   ]
  },
  {
   "cell_type": "code",
   "execution_count": 26,
   "metadata": {},
   "outputs": [],
   "source": [
    "#using .transform on the bag of words object\n",
    "reviews_bow = bow_transformer.transform(ml_df['review'])"
   ]
  },
  {
   "cell_type": "code",
   "execution_count": 27,
   "metadata": {},
   "outputs": [
    {
     "name": "stdout",
     "output_type": "stream",
     "text": [
      "Shape of Sparse Matrix:  (748, 744)\n",
      "Amount of non-zero occurences: 748\n"
     ]
    }
   ],
   "source": [
    "print('Shape of Sparse Matrix: ',reviews_bow.shape)\n",
    "print('Amount of non-zero occurences:',reviews_bow.nnz)"
   ]
  },
  {
   "cell_type": "code",
   "execution_count": 28,
   "metadata": {},
   "outputs": [
    {
     "name": "stdout",
     "output_type": "stream",
     "text": [
      "sparsity:0\n"
     ]
    }
   ],
   "source": [
    "sparsity =(100.0 * reviews_bow.nnz/(reviews_bow.shape[0]*reviews_bow.shape[1]))\n",
    "print('sparsity:{}'.format(round(sparsity)))\n"
   ]
  },
  {
   "cell_type": "code",
   "execution_count": 29,
   "metadata": {},
   "outputs": [
    {
     "name": "stdout",
     "output_type": "stream",
     "text": [
      "  (0, 662)\t1.0\n",
      "  (1, 685)\t1.0\n",
      "  (2, 19)\t1.0\n",
      "  (3, 480)\t1.0\n",
      "  (4, 280)\t1.0\n",
      "  (5, 618)\t1.0\n",
      "  (6, 219)\t1.0\n",
      "  (7, 182)\t1.0\n",
      "  (8, 282)\t1.0\n",
      "  (9, 135)\t1.0\n",
      "  (10, 269)\t1.0\n",
      "  (11, 537)\t1.0\n",
      "  (12, 189)\t1.0\n",
      "  (13, 37)\t1.0\n",
      "  (14, 622)\t1.0\n",
      "  (15, 265)\t1.0\n",
      "  (16, 621)\t1.0\n",
      "  (17, 110)\t1.0\n",
      "  (18, 590)\t1.0\n",
      "  (19, 680)\t1.0\n",
      "  (20, 398)\t1.0\n",
      "  (21, 360)\t1.0\n",
      "  (22, 163)\t1.0\n",
      "  (23, 172)\t1.0\n",
      "  (24, 86)\t1.0\n",
      "  :\t:\n",
      "  (723, 196)\t1.0\n",
      "  (724, 316)\t1.0\n",
      "  (725, 117)\t1.0\n",
      "  (726, 722)\t1.0\n",
      "  (727, 725)\t1.0\n",
      "  (728, 123)\t1.0\n",
      "  (729, 454)\t1.0\n",
      "  (730, 626)\t1.0\n",
      "  (731, 647)\t1.0\n",
      "  (732, 492)\t1.0\n",
      "  (733, 197)\t1.0\n",
      "  (734, 178)\t1.0\n",
      "  (735, 541)\t1.0\n",
      "  (736, 623)\t1.0\n",
      "  (737, 16)\t1.0\n",
      "  (738, 561)\t1.0\n",
      "  (739, 75)\t1.0\n",
      "  (740, 128)\t1.0\n",
      "  (741, 483)\t1.0\n",
      "  (742, 546)\t1.0\n",
      "  (743, 420)\t1.0\n",
      "  (744, 213)\t1.0\n",
      "  (745, 733)\t1.0\n",
      "  (746, 73)\t1.0\n",
      "  (747, 448)\t1.0\n"
     ]
    }
   ],
   "source": [
    "from sklearn.feature_extraction.text import TfidfTransformer\n",
    "tfidf_transformer=TfidfTransformer().fit(reviews_bow)\n",
    "tfidf = tfidf_transformer.transform(reviews_bow)\n",
    "print(tfidf)"
   ]
  },
  {
   "cell_type": "code",
   "execution_count": 30,
   "metadata": {},
   "outputs": [
    {
     "name": "stdout",
     "output_type": "stream",
     "text": [
      "(748, 744)\n"
     ]
    }
   ],
   "source": [
    "reviews_tfidf=tfidf_transformer.transform(reviews_bow)\n",
    "print(reviews_tfidf.shape)\n"
   ]
  },
  {
   "cell_type": "code",
   "execution_count": 32,
   "metadata": {},
   "outputs": [],
   "source": [
    "from sklearn.naive_bayes import MultinomialNB\n",
    "reviews_detect_model = MultinomialNB().fit(reviews_tfidf,ml_df['hit'])"
   ]
  },
  {
   "cell_type": "code",
   "execution_count": 33,
   "metadata": {},
   "outputs": [
    {
     "name": "stdout",
     "output_type": "stream",
     "text": [
      "predicted: 0\n",
      "expected: 0\n"
     ]
    }
   ],
   "source": [
    "print('predicted:',reviews_detect_model.predict(tfidf)[0])\n",
    "print('expected:',ml_df.hit[3])\n"
   ]
  },
  {
   "cell_type": "code",
   "execution_count": 34,
   "metadata": {},
   "outputs": [
    {
     "name": "stdout",
     "output_type": "stream",
     "text": [
      "[0 0 0 0 1 0 0 1 0 1 1 1 1 1 1 0 1 1 1 0 1 1 1 1 1 1 1 1 1 1 0 0 0 0 1 1 1\n",
      " 1 1 1 0 0 0 0 0 1 0 0 1 1 0 0 0 0 0 0 0 1 1 1 1 1 1 1 1 1 0 1 0 0 0 0 0 0\n",
      " 0 0 0 0 0 0 0 0 0 1 0 0 0 0 0 0 1 0 0 0 0 0 0 0 0 0 0 0 0 0 0 0 0 1 0 0 0\n",
      " 0 0 0 0 0 0 0 0 0 0 0 0 0 0 0 0 0 1 1 1 0 0 0 0 1 0 0 0 1 1 1 1 1 1 1 1 1\n",
      " 1 0 0 0 0 0 0 1 1 1 1 1 1 1 1 1 1 1 1 1 1 0 0 0 0 0 0 0 0 1 1 1 0 0 0 0 1\n",
      " 1 1 1 1 1 1 1 1 1 1 1 1 0 0 0 1 1 1 1 1 1 1 1 1 0 1 1 1 1 1 1 1 1 0 0 0 0\n",
      " 0 1 1 0 0 0 0 0 0 0 0 0 0 0 0 1 1 0 1 0 1 0 0 1 0 0 1 1 1 1 0 0 0 0 0 0 0\n",
      " 0 0 0 0 0 0 0 0 0 0 1 1 0 0 0 0 0 0 0 0 0 0 0 0 0 1 1 1 1 1 1 0 0 1 1 1 1\n",
      " 1 1 1 1 1 1 1 1 1 1 1 0 0 0 0 0 0 1 1 0 0 0 0 0 0 0 0 0 0 0 0 0 0 0 0 0 0\n",
      " 1 1 1 0 0 0 0 0 0 1 1 1 1 1 1 0 0 1 1 0 0 0 0 0 0 0 0 0 0 0 0 0 0 0 0 0 0\n",
      " 0 1 1 0 0 0 0 0 0 1 0 0 0 0 0 0 0 0 0 0 0 0 0 0 1 1 1 1 1 1 0 0 1 0 0 0 0\n",
      " 0 0 0 0 0 0 1 1 1 0 1 0 1 1 1 1 1 1 1 0 0 0 1 1 1 1 1 1 0 0 1 1 1 1 1 1 1\n",
      " 1 1 1 0 0 0 1 1 1 1 1 1 1 1 1 1 1 1 1 1 1 1 0 0 1 0 0 0 1 1 1 1 1 1 1 1 1\n",
      " 1 1 1 1 1 1 0 1 1 0 0 1 1 1 1 1 1 0 0 0 0 0 0 0 0 0 0 0 0 0 0 0 0 1 1 1 0\n",
      " 0 0 0 0 0 0 0 0 0 0 0 1 1 1 1 1 1 1 1 0 0 0 0 0 1 1 1 1 1 1 1 1 1 1 0 1 1\n",
      " 1 1 1 1 1 1 0 1 1 1 1 1 1 0 0 1 1 1 1 1 1 1 1 0 0 0 0 0 0 1 1 1 1 1 1 1 1\n",
      " 1 1 1 1 1 1 1 1 1 0 0 0 0 0 0 0 0 1 1 1 1 1 1 1 1 1 1 1 1 1 1 1 1 1 1 1 1\n",
      " 1 1 1 1 1 1 1 0 0 0 0 0 0 0 0 1 1 1 1 0 0 0 1 0 0 0 0 0 0 0 0 0 0 1 1 1 1\n",
      " 0 0 0 1 0 0 0 0 1 1 1 1 1 1 1 1 1 1 1 1 1 1 1 1 1 1 1 1 1 1 1 1 1 1 1 0 0\n",
      " 0 1 1 1 1 1 1 1 1 1 1 1 1 1 1 1 1 0 0 0 1 1 0 1 1 1 1 1 1 1 1 1 1 1 1 1 1\n",
      " 1 1 0 0 0 0 0 0]\n"
     ]
    }
   ],
   "source": [
    "all_predictions = reviews_detect_model.predict(reviews_tfidf)\n",
    "print(all_predictions)\n"
   ]
  },
  {
   "cell_type": "markdown",
   "metadata": {},
   "source": [
    "### TP|FP\n",
    "### FN|TN\n"
   ]
  },
  {
   "cell_type": "code",
   "execution_count": 35,
   "metadata": {},
   "outputs": [
    {
     "name": "stdout",
     "output_type": "stream",
     "text": [
      "             precision    recall  f1-score   support\n",
      "\n",
      "          0       1.00      1.00      1.00       362\n",
      "          1       1.00      1.00      1.00       386\n",
      "\n",
      "avg / total       1.00      1.00      1.00       748\n",
      "\n",
      "[[362   0]\n",
      " [  0 386]]\n"
     ]
    }
   ],
   "source": [
    "from sklearn.metrics import classification_report,confusion_matrix\n",
    "print(classification_report(ml_df['hit'],all_predictions))\n",
    "print(confusion_matrix(ml_df['hit'],all_predictions))"
   ]
  },
  {
   "cell_type": "code",
   "execution_count": 36,
   "metadata": {},
   "outputs": [],
   "source": [
    "from sklearn.model_selection import train_test_split\n",
    "msg_train,msg_test,label_train,label_test = train_test_split(ml_df['review'],ml_df['hit'],test_size=0.2)\n"
   ]
  },
  {
   "cell_type": "code",
   "execution_count": 37,
   "metadata": {},
   "outputs": [
    {
     "name": "stdout",
     "output_type": "stream",
     "text": [
      "598 150 598 150\n"
     ]
    }
   ],
   "source": [
    "print(len(msg_train),len(msg_test),len(label_train),len(label_test))"
   ]
  },
  {
   "cell_type": "code",
   "execution_count": 39,
   "metadata": {},
   "outputs": [],
   "source": [
    "from sklearn.pipeline import Pipeline\n",
    "pipeline = Pipeline([\n",
    "   ( 'bow',CountVectorizer(analyzer=text_analyzer)),\n",
    "    ('tfidf',TfidfTransformer()),\n",
    "    ('classifier',MultinomialNB()),\n",
    "])\n"
   ]
  },
  {
   "cell_type": "code",
   "execution_count": 40,
   "metadata": {},
   "outputs": [
    {
     "data": {
      "text/plain": [
       "Pipeline(memory=None,\n",
       "     steps=[('bow', CountVectorizer(analyzer=<function text_analyzer at 0x1a1dfced90>,\n",
       "        binary=False, decode_error='strict', dtype=<class 'numpy.int64'>,\n",
       "        encoding='utf-8', input='content', lowercase=True, max_df=1.0,\n",
       "        max_features=None, min_df=1, ngram_range=(1, 1), preprocessor=Non...f=False, use_idf=True)), ('classifier', MultinomialNB(alpha=1.0, class_prior=None, fit_prior=True))])"
      ]
     },
     "execution_count": 40,
     "metadata": {},
     "output_type": "execute_result"
    }
   ],
   "source": [
    "pipeline.fit(msg_train,label_train)"
   ]
  },
  {
   "cell_type": "code",
   "execution_count": 41,
   "metadata": {},
   "outputs": [],
   "source": [
    "predictions = pipeline.predict(msg_test)"
   ]
  },
  {
   "cell_type": "code",
   "execution_count": 42,
   "metadata": {},
   "outputs": [
    {
     "name": "stdout",
     "output_type": "stream",
     "text": [
      "             precision    recall  f1-score   support\n",
      "\n",
      "          0       0.01      1.00      0.02         1\n",
      "          1       1.00      0.46      0.63       149\n",
      "\n",
      "avg / total       0.99      0.46      0.62       150\n",
      "\n"
     ]
    }
   ],
   "source": [
    "print(classification_report(predictions,label_test))"
   ]
  },
  {
   "cell_type": "code",
   "execution_count": null,
   "metadata": {},
   "outputs": [],
   "source": []
  }
 ],
 "metadata": {
  "kernelspec": {
   "display_name": "Python 3",
   "language": "python",
   "name": "python3"
  },
  "language_info": {
   "codemirror_mode": {
    "name": "ipython",
    "version": 3
   },
   "file_extension": ".py",
   "mimetype": "text/x-python",
   "name": "python",
   "nbconvert_exporter": "python",
   "pygments_lexer": "ipython3",
   "version": "3.6.5"
  }
 },
 "nbformat": 4,
 "nbformat_minor": 2
}
